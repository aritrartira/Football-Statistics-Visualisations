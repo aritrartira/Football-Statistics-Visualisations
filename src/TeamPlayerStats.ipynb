{
  "nbformat": 4,
  "nbformat_minor": 0,
  "metadata": {
    "colab": {
      "name": "TeamPlayerStats.ipynb",
      "private_outputs": true,
      "provenance": [],
      "authorship_tag": "ABX9TyM8bMZbEBzqUxUw4peDK6BU",
      "include_colab_link": true
    },
    "kernelspec": {
      "name": "python3",
      "display_name": "Python 3"
    },
    "language_info": {
      "name": "python"
    }
  },
  "cells": [
    {
      "cell_type": "markdown",
      "metadata": {
        "id": "view-in-github",
        "colab_type": "text"
      },
      "source": [
        "<a href=\"https://colab.research.google.com/github/aritrartira/Football-Statistics-Visualisations/blob/add-license-1/src/TeamPlayerStats.ipynb\" target=\"_parent\"><img src=\"https://colab.research.google.com/assets/colab-badge.svg\" alt=\"Open In Colab\"/></a>"
      ]
    },
    {
      "cell_type": "code",
      "metadata": {
        "id": "TPU1YE_v9_fE"
      },
      "source": [
        "TEAM = \"West Ham\"\n",
        "SEASON = \"2020\""
      ],
      "execution_count": null,
      "outputs": []
    },
    {
      "cell_type": "markdown",
      "metadata": {
        "id": "t73P4J-e9Ldr"
      },
      "source": [
        "#Installing Required Libraries"
      ]
    },
    {
      "cell_type": "code",
      "metadata": {
        "id": "9Loi86yd9EFu"
      },
      "source": [
        "!pip install aiohttp\n",
        "!pip install understat"
      ],
      "execution_count": null,
      "outputs": []
    },
    {
      "cell_type": "markdown",
      "metadata": {
        "id": "zhq_TVkQ-V95"
      },
      "source": [
        "# Importing Library and Getting Data"
      ]
    },
    {
      "cell_type": "code",
      "metadata": {
        "id": "ctNYzXbw9gTm"
      },
      "source": [
        "import asyncio\n",
        "import json\n",
        "import numpy as np\n",
        "import pandas as pd\n",
        "import matplotlib.pyplot as plt\n",
        "import seaborn as sns\n",
        "import aiohttp\n",
        "from understat import Understat\n",
        "import nest_asyncio\n",
        "\n",
        "\n",
        "nest_asyncio.apply()\n",
        "\n",
        "\n",
        "async def main():\n",
        "    global players\n",
        "    async with aiohttp.ClientSession() as session:\n",
        "        understat = Understat(session)\n",
        "        players = await understat.get_team_players(TEAM, SEASON)\n",
        "\n",
        "loop = asyncio.get_event_loop()\n",
        "loop.run_until_complete(main())"
      ],
      "execution_count": null,
      "outputs": []
    },
    {
      "cell_type": "markdown",
      "metadata": {
        "id": "pmqVrlXO9iK-"
      },
      "source": [
        "# Non-Penalty Goals + Assists per 90"
      ]
    },
    {
      "cell_type": "code",
      "metadata": {
        "id": "pMHmNbN19jsq"
      },
      "source": [
        "players2 = []\n",
        "\n",
        "for player in players:\n",
        "    if (((float(player['npg']) + float(player['assists'])) / int(player['time'])) * 90 > 0.1):\n",
        "        players2.append([player['player_name'], ((float(player['npg']) + float(player['assists'])) / int(player['time'])) * 90])\n",
        "\n",
        "df2 = pd.DataFrame(data = players2, columns=['Player', 'non penalty goals + assists per 90'])\n",
        "df2"
      ],
      "execution_count": null,
      "outputs": []
    },
    {
      "cell_type": "code",
      "metadata": {
        "id": "BVFvfUuN-vU4"
      },
      "source": [
        "sns.set_theme()\n",
        "\n",
        "sns.barplot(x = 'non penalty goals + assists per 90', y = 'Player', data = df2, orient='h')"
      ],
      "execution_count": null,
      "outputs": []
    },
    {
      "cell_type": "markdown",
      "metadata": {
        "id": "X5F8GrLD_D5H"
      },
      "source": [
        "# Non Penalty Goals and Assists"
      ]
    },
    {
      "cell_type": "code",
      "metadata": {
        "id": "WWnwyk7c_Jj2"
      },
      "source": [
        "players3 = []\n",
        "\n",
        "for player in players:\n",
        "    if float(player['npg']) + float(player['assists']) > 1:\n",
        "        players3.append([player['player_name'], float(player['npg']) + float(player['assists'])])\n",
        "\n",
        "df3 = pd.DataFrame(data = players3, columns=['Player', 'non penalty goals + assists'], )\n",
        "df3"
      ],
      "execution_count": null,
      "outputs": []
    },
    {
      "cell_type": "code",
      "metadata": {
        "id": "ABjHfCwG_fjJ"
      },
      "source": [
        "sns.set_theme()\n",
        "\n",
        "sns.barplot(x = 'non penalty goals + assists', y = 'Player', data = df3, orient='h')"
      ],
      "execution_count": null,
      "outputs": []
    },
    {
      "cell_type": "markdown",
      "metadata": {
        "id": "souVRSx8_2Sk"
      },
      "source": [
        "# Non-Penalty Expected Goals + Expected Assists per 90"
      ]
    },
    {
      "cell_type": "code",
      "metadata": {
        "id": "PTqU0kBU_8IG"
      },
      "source": [
        "players1 = []\n",
        "\n",
        "for player in players:\n",
        "    if (((float(player['npxG']) + float(player['xA'])) / int(player['time'])) * 90 > 0.1):\n",
        "        players1.append([player['player_name'], ((float(player['npxG']) + float(player['xA'])) / int(player['time'])) * 90])\n",
        "\n",
        "df1 = pd.DataFrame(data = players1, columns=['Player', 'npxG + xA per 90'], )\n",
        "df1"
      ],
      "execution_count": null,
      "outputs": []
    },
    {
      "cell_type": "code",
      "metadata": {
        "id": "M6Qb7kVLAT6s"
      },
      "source": [
        "sns.set_theme()\n",
        "\n",
        "sns.barplot(x = 'npxG + xA per 90', y = 'Player', data = df1, orient='h')"
      ],
      "execution_count": null,
      "outputs": []
    },
    {
      "cell_type": "markdown",
      "metadata": {
        "id": "LvF6UTzYAoQu"
      },
      "source": [
        "# Minutes Played"
      ]
    },
    {
      "cell_type": "code",
      "metadata": {
        "id": "cYXBTsosAsnO"
      },
      "source": [
        "players4 = []\n",
        "\n",
        "for player in players:\n",
        "    if (int(player['time']) >= 1000):\n",
        "        players4.append([player['player_name'], int(player['time'])])\n",
        "\n",
        "df4 = pd.DataFrame(data = players4, columns=['Player', 'time'], )\n",
        "df4"
      ],
      "execution_count": null,
      "outputs": []
    },
    {
      "cell_type": "code",
      "metadata": {
        "id": "0dPl8OHKA7ly"
      },
      "source": [
        "sns.set_theme()\n",
        "sns.barplot(x = 'time', y = 'Player', data = df4, orient='h')"
      ],
      "execution_count": null,
      "outputs": []
    },
    {
      "cell_type": "markdown",
      "metadata": {
        "id": "1Yki7XWCBjBy"
      },
      "source": [
        "# Key passes\n"
      ]
    },
    {
      "cell_type": "code",
      "metadata": {
        "id": "_i00WG3-BkBY"
      },
      "source": [
        "players4 = []\n",
        "\n",
        "for player in players:\n",
        "    if (int(player['key_passes']) > 2):\n",
        "        players4.append([player['player_name'], int(player['key_passes'])])\n",
        "\n",
        "df4 = pd.DataFrame(data = players4, columns=['Player', 'key_passes'], )\n",
        "df4"
      ],
      "execution_count": null,
      "outputs": []
    },
    {
      "cell_type": "code",
      "metadata": {
        "id": "nJrXN0w2B3MR"
      },
      "source": [
        "sns.set_theme()\n",
        "sns.barplot(x = 'key_passes', y = 'Player', data = df4, orient='h')"
      ],
      "execution_count": null,
      "outputs": []
    },
    {
      "cell_type": "markdown",
      "metadata": {
        "id": "eNZRLsaCClr6"
      },
      "source": [
        "# Average xA per key pass"
      ]
    },
    {
      "cell_type": "code",
      "metadata": {
        "id": "1VQsCZctCkq0"
      },
      "source": [
        "players4 = []\n",
        "\n",
        "for player in players:\n",
        "    if (int(player['key_passes']) > 2):\n",
        "        if (float(player['xA']) / int(player['key_passes']) > 0.1):\n",
        "            players4.append([player['player_name'], float(player['xA']) / int(player['key_passes'])])\n",
        "\n",
        "df4 = pd.DataFrame(data = players4, columns=['Player', 'avg xA per key pass'], )\n",
        "df4"
      ],
      "execution_count": null,
      "outputs": []
    },
    {
      "cell_type": "code",
      "metadata": {
        "id": "gUWgDpFZCuBT"
      },
      "source": [
        "sns.set_theme()\n",
        "sns.barplot(x = 'avg xA per key pass', y = 'Player', data = df4, orient='h')"
      ],
      "execution_count": null,
      "outputs": []
    }
  ]
}