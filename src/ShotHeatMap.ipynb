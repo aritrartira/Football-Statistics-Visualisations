{
  "nbformat": 4,
  "nbformat_minor": 0,
  "metadata": {
    "colab": {
      "name": "ShotHeatMap.ipynb",
      "private_outputs": true,
      "provenance": [],
      "authorship_tag": "ABX9TyOjeVfEZB4QtOi/YMloskZl",
      "include_colab_link": true
    },
    "kernelspec": {
      "name": "python3",
      "display_name": "Python 3"
    },
    "language_info": {
      "name": "python"
    }
  },
  "cells": [
    {
      "cell_type": "markdown",
      "metadata": {
        "id": "view-in-github",
        "colab_type": "text"
      },
      "source": [
        "<a href=\"https://colab.research.google.com/github/aritrartira/Football-Statistics-Visualisations/blob/main/src/ShotHeatMap.ipynb\" target=\"_parent\"><img src=\"https://colab.research.google.com/assets/colab-badge.svg\" alt=\"Open In Colab\"/></a>"
      ]
    },
    {
      "cell_type": "code",
      "metadata": {
        "id": "xPdkhdhqwl0t"
      },
      "source": [
        "PLAYER_NAME = 'Timo Werner'\n",
        "PLAYER_ID = 838\n",
        "SEASON = \"2020\""
      ],
      "execution_count": null,
      "outputs": []
    },
    {
      "cell_type": "markdown",
      "metadata": {
        "id": "N-RgVEAHv09_"
      },
      "source": [
        "# Installing necessary libraries"
      ]
    },
    {
      "cell_type": "code",
      "metadata": {
        "id": "Y45MQZ--vyLQ"
      },
      "source": [
        "!pip install understat\n",
        "!pip install aiohttp\n",
        "!pip install mplsoccer"
      ],
      "execution_count": null,
      "outputs": []
    },
    {
      "cell_type": "markdown",
      "metadata": {
        "id": "Yk5hdMojwAFM"
      },
      "source": [
        "# Importing Necessary Libraries"
      ]
    },
    {
      "cell_type": "code",
      "metadata": {
        "id": "xaNG8athwDUK"
      },
      "source": [
        "from understat import Understat\n",
        "import json\n",
        "import asyncio\n",
        "import aiohttp\n",
        "import numpy as np\n",
        "import matplotlib.pyplot as plt\n",
        "from matplotlib.patches import Arc\n",
        "import seaborn as sns\n",
        "import pandas as pd\n",
        "from mplsoccer.pitch import VerticalPitch\n",
        "\n",
        "import nest_asyncio\n",
        "nest_asyncio.apply()"
      ],
      "execution_count": null,
      "outputs": []
    },
    {
      "cell_type": "markdown",
      "metadata": {
        "id": "7sdf0cb8wbPh"
      },
      "source": [
        "#Getting data"
      ]
    },
    {
      "cell_type": "code",
      "metadata": {
        "id": "Q39CvQAPwZ_d"
      },
      "source": [
        "async def main():\n",
        "    global shots\n",
        "    async with aiohttp.ClientSession() as session:\n",
        "        understat = Understat(session)\n",
        "        shots = await understat.get_player_shots(\n",
        "            65, {\"season\": SEASON})\n",
        "\n",
        "loop = asyncio.get_event_loop()\n",
        "loop.run_until_complete(main())"
      ],
      "execution_count": null,
      "outputs": []
    },
    {
      "cell_type": "code",
      "metadata": {
        "id": "IJwZcj5yxtLk"
      },
      "source": [
        "len(shots)"
      ],
      "execution_count": null,
      "outputs": []
    },
    {
      "cell_type": "code",
      "metadata": {
        "id": "AkF0B7IKxEFc"
      },
      "source": [
        "X = []\n",
        "Y = []\n",
        "\n",
        "for shot in shots:\n",
        "    X.append(float(shot['X']) * 120)\n",
        "    Y.append((1 - float(shot['Y'])) * 80)\n",
        "\n",
        "df = pd.DataFrame({'X':X, 'Y':Y})\n",
        "df"
      ],
      "execution_count": null,
      "outputs": []
    },
    {
      "cell_type": "markdown",
      "metadata": {
        "id": "WkWk6dBswXMo"
      },
      "source": [
        "#Plotting"
      ]
    },
    {
      "cell_type": "code",
      "metadata": {
        "id": "LoTLaXGxwZSe"
      },
      "source": [
        "def create_pitch(color = 'black'):\n",
        "    fig=plt.figure(figsize=(13,9))\n",
        "    ax=fig.add_subplot(111)\n",
        "\n",
        "    plt.axis('off')\n",
        "\n",
        "    plt.axvspan(0, 130, 0, 90, color = color)\n",
        "\n",
        "    plt.plot([0,0], [0, 90], color='white')\n",
        "    plt.plot([130,130], [0, 90], color='white')\n",
        "    plt.plot([0,130], [0, 0], color='white')\n",
        "    plt.plot([0,130], [90, 90], color='white')\n",
        "    plt.plot([65,65], [0, 90], color='white')\n",
        "\n",
        "    plt.plot([16.5,16.5], [25,65], color = 'white')\n",
        "    plt.plot([0,16.5], [25,25], color = 'white')\n",
        "    plt.plot([0,16.5], [65,65], color = 'white')\n",
        "\n",
        "    plt.plot([130 - 16.5, 130 - 16.5], [25,65], color = 'white')\n",
        "    plt.plot([130 - 0,130 - 16.5], [25,25], color = 'white')\n",
        "    plt.plot([130 - 0,130 - 16.5], [65,65], color = 'white')\n",
        "\n",
        "    plt.plot([5.5, 5.5], [36,54], color='white')\n",
        "    plt.plot([0, 5.5], [36,36], color='white')\n",
        "    plt.plot([0, 5.5], [54,54], color='white')\n",
        "\n",
        "    plt.plot([130 - 5.5, 130 - 5.5], [36,54], color='white')\n",
        "    plt.plot([130 - 0, 130 - 5.5], [36,36], color='white')\n",
        "    plt.plot([130 - 0, 130 - 5.5], [54,54], color='white')\n",
        "\n",
        "    centreCircle = plt.Circle((65,45),9.15,color=\"white\",fill=False)\n",
        "    centreSpot = plt.Circle((65,45),0.8,color=\"white\")\n",
        "    ax.add_patch(centreCircle)\n",
        "    ax.add_patch(centreSpot)\n",
        "\n",
        "    leftArc = Arc((11,45),height=18.3,width=18.3,angle=0,theta1=310,theta2=50, color='white')\n",
        "    rightArc = Arc((130 - 11,45),height=18.3,width=18.3,angle=0,theta1=130,theta2=230, color='white')\n",
        "    ax.add_patch(leftArc)\n",
        "    ax.add_patch(rightArc)\n",
        "\n",
        "    leftPenSpot = plt.Circle((11,45),0.8,color=\"white\")\n",
        "    rightPenSpot = plt.Circle((119,45),0.8,color=\"white\")\n",
        "    ax.add_patch(leftPenSpot)\n",
        "    ax.add_patch(rightPenSpot)\n",
        "\n",
        "    return fig, ax"
      ],
      "execution_count": null,
      "outputs": []
    },
    {
      "cell_type": "code",
      "metadata": {
        "id": "te0FLtiozsCW"
      },
      "source": [
        "pitch = VerticalPitch(pitch_type='statsbomb', stripe=False, figsize=(10,10), pitch_color='grass', line_color='white', half=True, )\n",
        "fig, ax = pitch.draw()\n",
        "\n",
        "kde = sns.kdeplot(df['Y'], df['X'], cmap = 'magma', thresh=0.05, fill = True, alpha = 0.4)\n",
        "\n",
        "plt.scatter(df['Y'], df['X'], alpha = 0.7)\n",
        "\n",
        "plt.xlim(-5, 90)\n",
        "plt.ylim(55, 120)\n",
        "\n",
        "plt.title(f\"{PLAYER_NAME} all shots heatmap {SEASON}-{int(SEASON[-2:]) + 1}\", fontdict={'fontsize' : '16', 'family':'Ayuthaya'})"
      ],
      "execution_count": null,
      "outputs": []
    },
    {
      "cell_type": "code",
      "metadata": {
        "id": "EnmMarVi0Mff"
      },
      "source": [
        ""
      ],
      "execution_count": null,
      "outputs": []
    }
  ]
}