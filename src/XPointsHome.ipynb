{
  "nbformat": 4,
  "nbformat_minor": 0,
  "metadata": {
    "colab": {
      "name": "XPointsHome.ipynb",
      "private_outputs": true,
      "provenance": [],
      "collapsed_sections": [],
      "authorship_tag": "ABX9TyMe0E6qQSNqVwrckzIhAUvb",
      "include_colab_link": true
    },
    "kernelspec": {
      "name": "python3",
      "display_name": "Python 3"
    },
    "language_info": {
      "name": "python"
    }
  },
  "cells": [
    {
      "cell_type": "markdown",
      "metadata": {
        "id": "view-in-github",
        "colab_type": "text"
      },
      "source": [
        "<a href=\"https://colab.research.google.com/github/aritrartira/Football-Statistics-Visualisations/blob/add-license-1/src/XPointsHome.ipynb\" target=\"_parent\"><img src=\"https://colab.research.google.com/assets/colab-badge.svg\" alt=\"Open In Colab\"/></a>"
      ]
    },
    {
      "cell_type": "code",
      "metadata": {
        "id": "10QrRpYtjgqR"
      },
      "source": [
        "LEAGUE = 'epl'\n",
        "SEASON = '2019'     # Example - For 2019-20 use '2019'\n",
        "TEAM = 'Manchester United'\n",
        "FILENAME = f\"xPoints_MUN_home_games_{SEASON}_30_3_2021.jpg\""
      ],
      "execution_count": null,
      "outputs": []
    },
    {
      "cell_type": "markdown",
      "metadata": {
        "id": "ck369ZgjiJwO"
      },
      "source": [
        "# Installing Necessary Libraries"
      ]
    },
    {
      "cell_type": "code",
      "metadata": {
        "id": "hw1qqRP2fXNV"
      },
      "source": [
        "!pip install aiohttp\n",
        "!pip install understat"
      ],
      "execution_count": null,
      "outputs": []
    },
    {
      "cell_type": "markdown",
      "metadata": {
        "id": "1G0ms7vfjAQY"
      },
      "source": [
        "# Importing Necessary Libraries"
      ]
    },
    {
      "cell_type": "code",
      "metadata": {
        "id": "wEdqviTPhjN3"
      },
      "source": [
        "import asyncio\n",
        "import json\n",
        "import numpy as np\n",
        "\n",
        "import aiohttp\n",
        "\n",
        "from understat import Understat\n",
        "\n",
        "import nest_asyncio\n",
        "nest_asyncio.apply()"
      ],
      "execution_count": null,
      "outputs": []
    },
    {
      "cell_type": "markdown",
      "metadata": {
        "id": "rYTNfHvAjMkH"
      },
      "source": [
        "# Code"
      ]
    },
    {
      "cell_type": "code",
      "metadata": {
        "id": "YGIlII1Zl5Dj"
      },
      "source": [
        "async def main():\n",
        "    global teams\n",
        "    async with aiohttp.ClientSession() as session:\n",
        "        understat = Understat(session)\n",
        "        teams = await understat.get_teams(LEAGUE, SEASON)\n",
        "        print(json.dumps(teams))\n",
        "\n",
        "loop = asyncio.get_event_loop()\n",
        "loop.run_until_complete(main())\n",
        "\n",
        "id_dict = dict()\n",
        "\n",
        "for team in teams:\n",
        "    id_dict[team['title']] = team['id']\n",
        "\n",
        "id_dict"
      ],
      "execution_count": null,
      "outputs": []
    },
    {
      "cell_type": "code",
      "metadata": {
        "id": "ewvAc1Lusj2b"
      },
      "source": [
        "short_title_dict = dict()\n",
        "\n",
        "for team in id_dict.keys():\n",
        "    async def main():\n",
        "        global results\n",
        "        async with aiohttp.ClientSession() as session:\n",
        "            understat = Understat(session)\n",
        "            short_title_dict[team] = (await understat.get_team_results(team, SEASON, side=\"h\"))[0]['h']['short_title']\n",
        "\n",
        "    loop = asyncio.get_event_loop()\n",
        "    loop.run_until_complete(main())\n",
        "\n",
        "short_title_dict"
      ],
      "execution_count": null,
      "outputs": []
    },
    {
      "cell_type": "code",
      "metadata": {
        "id": "Y6nGWHSDjOQL"
      },
      "source": [
        "stats = 0\n",
        "async def main():\n",
        "    global stats\n",
        "    async with aiohttp.ClientSession() as session:\n",
        "        understat = Understat(session)\n",
        "        stats = await understat.get_league_results(LEAGUE, SEASON, {'h' : {'id' : id_dict[TEAM], 'title' : TEAM,  \"short_title\": short_title_dict[TEAM]}})\n",
        "        #stats.append(await understat.get_league_results('EPL', '2018', {'a' : {'id' : '89', 'title' : 'Manchester United',  \"short_title\": \"MUN\"}}))\n",
        "\n",
        "loop = asyncio.get_event_loop()\n",
        "loop.run_until_complete(main())"
      ],
      "execution_count": null,
      "outputs": []
    },
    {
      "cell_type": "code",
      "metadata": {
        "id": "4E1JkfqnjdLg"
      },
      "source": [
        "match_ids = []\n",
        "\n",
        "for match in stats:\n",
        "    match_ids.append(int(match['id']))\n",
        "\n",
        "match_ids"
      ],
      "execution_count": null,
      "outputs": []
    },
    {
      "cell_type": "code",
      "metadata": {
        "id": "eJi0x4wvpnZE"
      },
      "source": [
        "match_shots = []\n",
        "\n",
        "for id in match_ids:\n",
        "    async def main():\n",
        "        global match_shots\n",
        "        async with aiohttp.ClientSession() as session:\n",
        "            understat = Understat(session)\n",
        "            match_shots.append(await understat.get_match_shots(id))\n",
        "\n",
        "    loop = asyncio.get_event_loop()\n",
        "    loop.run_until_complete(main())\n",
        "\n",
        "\n",
        "len(match_shots)"
      ],
      "execution_count": null,
      "outputs": []
    },
    {
      "cell_type": "code",
      "metadata": {
        "id": "Od19VyPOpogf"
      },
      "source": [
        "for i in range(len(match_shots)):\n",
        "    match = match_shots[i]\n",
        "    a = []\n",
        "    h = []\n",
        "    for shot in match['a']:\n",
        "        a.append(float(shot['xG']))\n",
        "\n",
        "    for shot in match['h']:\n",
        "        h.append(float(shot['xG']))\n",
        "\n",
        "    match_shots[i] = a, h\n",
        "\n",
        "match_shots"
      ],
      "execution_count": null,
      "outputs": []
    },
    {
      "cell_type": "code",
      "metadata": {
        "id": "h2iakhlVpqmr"
      },
      "source": [
        "import random\n",
        "\n",
        "outcomes = dict()\n",
        "\n",
        "def predict_goals(xG):\n",
        "    goals = 0\n",
        "\n",
        "    for i in xG:\n",
        "        if (random.random() <= i):\n",
        "            goals = goals + 1\n",
        "    \n",
        "    return goals\n",
        "\n",
        "def simulate(A_xG, B_xG):\n",
        "    for i in range(100000):\n",
        "        goals_A = predict_goals(A_xG)\n",
        "        goals_B = predict_goals(B_xG)\n",
        "\n",
        "        outcome = (str(goals_A), str(goals_B))\n",
        "\n",
        "        if outcome in outcomes.keys():\n",
        "            outcomes[outcome] = outcomes[outcome] + 1\n",
        "        else:\n",
        "            outcomes[outcome] = 1\n",
        "\n",
        "def reset_outcomes():\n",
        "    global outcomes\n",
        "    outcomes = dict()\n",
        "\n",
        "\n",
        "def prob_A_win(A_xG, B_xG):\n",
        "    reset_outcomes()\n",
        "    simulate(A_xG, B_xG)\n",
        "    \n",
        "    fav_outcomes = 0\n",
        "    for i in outcomes.keys():\n",
        "        if int(i[0]) > int(i[1]):\n",
        "            fav_outcomes = fav_outcomes + outcomes[i]\n",
        "\n",
        "    prob = fav_outcomes / 100000.0\n",
        "    return prob\n",
        "\n",
        "def prob_B_win(A_xG, B_xG):\n",
        "    reset_outcomes()\n",
        "    simulate(A_xG, B_xG)\n",
        "    \n",
        "    fav_outcomes = 0\n",
        "    for i in outcomes.keys():\n",
        "        if int(i[0]) < int(i[1]):\n",
        "            fav_outcomes = fav_outcomes + outcomes[i]\n",
        "\n",
        "    prob = fav_outcomes / 100000.0\n",
        "    return prob\n",
        "\n",
        "def prob_draw(A_xG, B_xG):\n",
        "    reset_outcomes()\n",
        "    simulate(A_xG, B_xG)\n",
        "    \n",
        "    fav_outcomes = 0\n",
        "    for i in outcomes.keys():\n",
        "        if int(i[0]) == int(i[1]):\n",
        "            fav_outcomes = fav_outcomes + outcomes[i]\n",
        "\n",
        "    prob = fav_outcomes / 100000.0\n",
        "    return prob\n",
        "\n",
        "def most_likely_outcome(A_xG, B_xG):\n",
        "    reset_outcomes()\n",
        "    simulate(A_xG, B_xG)\n",
        "    most_likely = max(outcomes, key = outcomes.get)\n",
        "\n",
        "    return str(most_likely[0]) + \"-\" + str(most_likely[1])"
      ],
      "execution_count": null,
      "outputs": []
    },
    {
      "cell_type": "code",
      "metadata": {
        "id": "78_TkSKApvbo"
      },
      "source": [
        "xPoints = []\n",
        "\n",
        "for match in match_shots:\n",
        "    prob_w = prob_B_win(match[0], match[1])\n",
        "    prob_d = prob_draw(match[0], match[1])\n",
        "    xPoints.append(prob_w * 3 + prob_d)\n",
        "\n",
        "xPoints"
      ],
      "execution_count": null,
      "outputs": []
    },
    {
      "cell_type": "code",
      "metadata": {
        "id": "Vhs7JG4VpxdT"
      },
      "source": [
        "import numpy as np\n",
        "\n",
        "Y = xPoints\n",
        "\n",
        "p = np.polyfit([i for i in range(1, len(Y) + 1)], Y, 1)\n",
        "\n",
        "Y_line = [p[0] * x + p[1] for x in range(1, len(Y) + 1)]"
      ],
      "execution_count": null,
      "outputs": []
    },
    {
      "cell_type": "code",
      "metadata": {
        "id": "6C9hsDRNpzMh"
      },
      "source": [
        "import matplotlib.pyplot as plt\n",
        "\n",
        "plt.figure()\n",
        "plt.plot([i for i in range(1, len(Y) + 1)], Y, label = f'xPoints for {short_title_dict[TEAM]} Home Games {SEASON}-{int(SEASON[-2:]) + 1}')\n",
        "plt.plot([i for i in range(1, len(Y) + 1)], Y_line)\n",
        "plt.scatter([i for i in range(1, len(Y) + 1)], Y)\n",
        "#plt.xticks(ticks = [i for i in range(1, 21)], labels = X)\n",
        "#plt.plot([i for i in range(1, len(Y) + 1)], [np.mean(np.array(Y)) for _ in range(1, len(Y) + 1)], 'r--', label = \"Average xA of all key passes\")\n",
        "#plt.axhspan(np.mean(np.array(Y)), 0.6, xmin=0, xmax=21, alpha = 0.2, facecolor = 'green', label = \"Overperforming the average\")\n",
        "#plt.axhspan(np.mean(np.array(Y)), 0, xmin=0, xmax=21, alpha = 0.2, facecolor = 'red', label = \"Underperforming the average\")\n",
        "plt.legend()\n",
        "plt.ylabel('xPoints')\n",
        "plt.xlabel('Matches')\n",
        "plt.savefig(FILENAME, dpi = 200)\n",
        "plt.show()"
      ],
      "execution_count": null,
      "outputs": []
    }
  ]
}