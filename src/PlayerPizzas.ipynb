{
  "nbformat": 4,
  "nbformat_minor": 0,
  "metadata": {
    "colab": {
      "name": "PlayerPizzas.ipynb",
      "private_outputs": true,
      "provenance": [],
      "collapsed_sections": [],
      "authorship_tag": "ABX9TyNYlvlQBEgDSC1SlGCZGOeb",
      "include_colab_link": true
    },
    "kernelspec": {
      "name": "python3",
      "display_name": "Python 3"
    },
    "language_info": {
      "name": "python"
    }
  },
  "cells": [
    {
      "cell_type": "markdown",
      "metadata": {
        "id": "view-in-github",
        "colab_type": "text"
      },
      "source": [
        "<a href=\"https://colab.research.google.com/github/aritrartira/Football-Statistics-Visualisations/blob/main/src/PlayerPizzas.ipynb\" target=\"_parent\"><img src=\"https://colab.research.google.com/assets/colab-badge.svg\" alt=\"Open In Colab\"/></a>"
      ]
    },
    {
      "cell_type": "markdown",
      "metadata": {
        "id": "DsrkiaRtJGcV"
      },
      "source": [
        "#Player Info"
      ]
    },
    {
      "cell_type": "code",
      "metadata": {
        "id": "3cWKBXjfJDM3"
      },
      "source": [
        "PLAYER_NAME = \"Nicolò Barella\"\n",
        "POSITION = \"Midfielder\""
      ],
      "execution_count": null,
      "outputs": []
    },
    {
      "cell_type": "markdown",
      "metadata": {
        "id": "gqktToWVJKFy"
      },
      "source": [
        "# Installing and Importing Libraries and Fonts"
      ]
    },
    {
      "cell_type": "code",
      "metadata": {
        "id": "cFS7M12kJVwg"
      },
      "source": [
        "!pip install mplsoccer"
      ],
      "execution_count": null,
      "outputs": []
    },
    {
      "cell_type": "code",
      "metadata": {
        "id": "4mJ3wcbiJQb2"
      },
      "source": [
        "from urllib.request import urlopen\n",
        "\n",
        "import matplotlib.pyplot as plt\n",
        "from PIL import Image\n",
        "\n",
        "from mplsoccer import PyPizza, add_image, FontManager"
      ],
      "execution_count": null,
      "outputs": []
    },
    {
      "cell_type": "code",
      "metadata": {
        "id": "Fu6rdH2lJexQ"
      },
      "source": [
        "font_normal = FontManager((\"https://github.com/google/fonts/blob/main/apache/roboto/static/\"\n",
        "                           \"Roboto-Regular.ttf?raw=true\"))\n",
        "font_italic = FontManager((\"https://github.com/google/fonts/blob/main/apache/roboto/static/\"\n",
        "                           \"Roboto-Italic.ttf?raw=true\"))\n",
        "font_bold = FontManager((\"https://github.com/google/fonts/blob/main/apache/roboto/static/\"\n",
        "                         \"Roboto-Medium.ttf?raw=true\"))"
      ],
      "execution_count": null,
      "outputs": []
    },
    {
      "cell_type": "markdown",
      "metadata": {
        "id": "o4Su8nKJJ0VR"
      },
      "source": [
        "#Code"
      ]
    },
    {
      "cell_type": "code",
      "metadata": {
        "id": "hzXZ9LAwJzho"
      },
      "source": [
        "params_shooting = ['Goals', 'Shots', 'Shots On Target %', \"Goals/Shots\", 'Avg. Shot Distance', 'Non-Penalty xG', 'Non-Penalty Goals - xG']\n",
        "params_passing = ['xA', 'Key Passes', 'Pass Completion %', 'Prog. Passing Distance', 'Progressive Passes', 'Passes into\\nPenalty Area', 'Crosses', 'Switches', 'Passes Under Pressure', 'Through Balls', 'Open Play SCA (Passes)']\n",
        "params_defence = ['Tackles', 'Tackles Won', 'Dribbled Past', 'Pressures', 'Passes Blocked', 'Shots Blocked', 'Fouls Committed', 'Ball Recoveries']\n",
        "params_possession = ['Touches', 'Touches Opp. Penalty Area', 'Dribbles Attempted', 'Dribbles Completed', 'Progressive Carries', 'Carries into Final-Third', 'Carries into\\nOpp. Penalty Area', 'Dispossessed', 'SCA from Dribbles']\n",
        "params_smarterscout = ['Disrupting\\nopposition moves', 'Recovering a\\nmoving ball', 'Aerial duels', 'Link-up passing', 'Passing toward goal', 'Dribbling', 'Receiving in\\nthe box', 'Shooting', 'Attacking output', 'Defending quality', 'Defending quantity', 'Ball retention']"
      ],
      "execution_count": null,
      "outputs": []
    },
    {
      "cell_type": "code",
      "metadata": {
        "id": "24vTJh-TJfS9"
      },
      "source": [
        "scores_shooting = [62, 65, 54, 58, 57, 71, 58]\n",
        "scores_passing = [88, 81, 29, 82, 95, 98, 90, 34, 91, 81, 90]\n",
        "scores_defence = [41, 49, 57, 45, 44, 0.23, 50, 48]\n",
        "scores_possession = [64, 82, 70, 74, 85, 89, 89, 32, 73]\n",
        "scores_smarterscout = [41, 43, 33, 60, 74, 46, 28, 23, 48, 48, 72, 59]"
      ],
      "execution_count": null,
      "outputs": []
    },
    {
      "cell_type": "code",
      "metadata": {
        "id": "QBM5WTH3m40r"
      },
      "source": [
        "def get_pizza(params, values, colour, fbref):\n",
        "    slice_colors = [colour] * len(params)\n",
        "    text_colors = ['#FFFFFF'] * len(params)\n",
        "\n",
        "    baker = PyPizza(\n",
        "    params=params,\n",
        "    background_color=\"#000000\",\n",
        "    straight_line_color=\"#EBEBE9\",\n",
        "    straight_line_lw=1,\n",
        "    last_circle_lw=0,\n",
        "    other_circle_lw=0,\n",
        "    inner_circle_size=20)\n",
        "\n",
        "    fig, ax = baker.make_pizza(\n",
        "    values,                          # list of values\n",
        "    figsize=(8, 8.5),                # adjust figsize according to your need\n",
        "    color_blank_space=\"same\",        # use same color to fill blank space\n",
        "    slice_colors=slice_colors,       # color for individual slices\n",
        "    value_colors=text_colors,        # color for the value-text\n",
        "    value_bck_colors=slice_colors,   # color for the blank spaces\n",
        "    blank_alpha=0.4,                 # alpha for blank-space colors\n",
        "    kwargs_slices=dict(\n",
        "        edgecolor=\"#F2F2F2\", zorder=2, linewidth=1\n",
        "    ),                               # values to be used when plotting slices\n",
        "    kwargs_params=dict(\n",
        "        color=\"#FFFFFF\", fontsize=13, weight = 'book', va=\"center\"\n",
        "    ),                               # values to be used when adding parameter\n",
        "    kwargs_values=dict(\n",
        "        color=\"#FFFFFF\", fontsize=11,\n",
        "        fontproperties=font_normal.prop, zorder=3,\n",
        "        bbox=dict(\n",
        "            edgecolor=\"#000000\", facecolor=\"cornflowerblue\",\n",
        "            boxstyle=\"round,pad=0.2\", lw=1\n",
        "            )\n",
        "        )                            # values to be used when adding parameter-values\n",
        "    )\n",
        "    \n",
        "    fig.text(\n",
        "    0.535, 0.975, PLAYER_NAME, fontsize=24,\n",
        "    ha=\"center\", family = 'serif', weight = 'semibold', color=\"#FFFFFF\"\n",
        "    )\n",
        "\n",
        "    if fbref == True:\n",
        "        fig.text(\n",
        "        0.535, 0.932,\n",
        "        f\"Percentile Rank vs Top-Five League {POSITION}s\",\n",
        "        size=18,\n",
        "        ha=\"center\", family = 'sans-serif', color=\"#FFFFFF\"\n",
        "        )\n",
        "    else:\n",
        "        fig.text(\n",
        "        0.535, 0.932,\n",
        "        \"Smarterscout Ratings\",\n",
        "        size=18,\n",
        "        ha=\"center\", family = 'sans-serif', color=\"#FFFFFF\"\n",
        "        )\n",
        "\n",
        "    # add credits\n",
        "    if fbref == True:\n",
        "        CREDIT_1 = \"data: statsbomb viz fbref\"\n",
        "    else:\n",
        "        CREDIT_1 = \"data: Smarterscout\"\n",
        "    CREDIT_2 = \"inspired by: @Worville, @FootballSlices, @somazerofc & @Soumyaj15209314\"\n",
        "\n",
        "    fig.text(\n",
        "        0.99, 0.02, f\"{CREDIT_1}\\n{CREDIT_2}\", size=9, style = 'italic', color=\"#FFFFFF\",\n",
        "        ha=\"right\"\n",
        "    )\n",
        "    fig.show()\n",
        "    #return fig, ax"
      ],
      "execution_count": null,
      "outputs": []
    },
    {
      "cell_type": "code",
      "metadata": {
        "id": "McZbwzLEpKVo"
      },
      "source": [
        "get_pizza(params_shooting, scores_shooting, \"#FF3232\", True)"
      ],
      "execution_count": null,
      "outputs": []
    },
    {
      "cell_type": "code",
      "metadata": {
        "id": "0sWqswQotL4b"
      },
      "source": [
        "get_pizza(params_passing, scores_passing, \"#32FF32\", True)"
      ],
      "execution_count": null,
      "outputs": []
    },
    {
      "cell_type": "code",
      "metadata": {
        "id": "CVicT3BH-Mgk"
      },
      "source": [
        "get_pizza(params_defence, scores_defence, \"#3232FF\", True)"
      ],
      "execution_count": null,
      "outputs": []
    },
    {
      "cell_type": "code",
      "metadata": {
        "id": "iR_r2eF5-T4V"
      },
      "source": [
        "get_pizza(params_possession, scores_possession, \"#FFFF32\", True)"
      ],
      "execution_count": null,
      "outputs": []
    },
    {
      "cell_type": "code",
      "metadata": {
        "id": "P0RpU4-f-dFQ"
      },
      "source": [
        "get_pizza(params_smarterscout, scores_smarterscout, \"#FF32FF\", False)"
      ],
      "execution_count": null,
      "outputs": []
    },
    {
      "cell_type": "code",
      "metadata": {
        "id": "Xrif_Q3m-j0_"
      },
      "source": [
        ""
      ],
      "execution_count": null,
      "outputs": []
    }
  ]
}